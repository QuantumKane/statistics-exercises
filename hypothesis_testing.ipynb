{
 "cells": [
  {
   "cell_type": "markdown",
   "metadata": {},
   "source": [
    "### Original question: Has the network latency gone up since we switched internet service providers?\n",
    "- Null hypothesis: There is no increase in latency after we switched ISPs\n",
    "- Alternative hypothesis: There is an increase in latency after we switched ISPs\n",
    "\n",
    "- True positive: An increase in latency\n",
    "- True negative: No increase in latency\n",
    "- Type1 Error: We determine that there is an increase, but no change has occured\n",
    "- Type2 Error: We determine there isn't an increase when there is"
   ]
  },
  {
   "cell_type": "markdown",
   "metadata": {},
   "source": [
    "## Original question: Is the website redesign any good?\n",
    "\n",
    "- Null hypothesis: The site redesign hasn't had an impact on sales\n",
    "- Alternative hypothesis: The site redesign has had an impact on sales\n",
    "\n",
    "- True positive: An increase in latency\n",
    "- True negative: No increase in latency\n",
    "- Type1 Error: We determine that there is an increase, but no change has occured\n",
    "- Type2 Error: We determine there isn't an increase when there is"
   ]
  },
  {
   "cell_type": "markdown",
   "metadata": {},
   "source": [
    "## Original question: Is our television ad driving more sales?\n",
    "\n",
    "- Null hypothesis: Our TV ad is not increasing sales\n",
    "- Alternative hypothesis: Our TV ad is increasing sales\n",
    "\n",
    "- True positive: An increase in sales post-TV ad\n",
    "- True negative: No increase in sales post-TV ad\n",
    "- Type1 Error: We determine that there is an increase, but no change has occured\n",
    "- Type2 Error: We determine there isn't an increase when there is"
   ]
  }
 ],
 "metadata": {
  "kernelspec": {
   "display_name": "Python 3",
   "language": "python",
   "name": "python3"
  },
  "language_info": {
   "codemirror_mode": {
    "name": "ipython",
    "version": 3
   },
   "file_extension": ".py",
   "mimetype": "text/x-python",
   "name": "python",
   "nbconvert_exporter": "python",
   "pygments_lexer": "ipython3",
   "version": "3.7.4"
  }
 },
 "nbformat": 4,
 "nbformat_minor": 4
}
